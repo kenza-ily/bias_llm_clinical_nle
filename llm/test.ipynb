{
 "cells": [
  {
   "cell_type": "code",
   "execution_count": 1,
   "metadata": {},
   "outputs": [
    {
     "name": "stdout",
     "output_type": "stream",
     "text": [
      "Collecting langchain_ollama\n",
      "  Downloading langchain_ollama-0.1.1-py3-none-any.whl.metadata (1.8 kB)\n",
      "Requirement already satisfied: langchain-core<0.3.0,>=0.2.20 in /Users/kenzabenkirane/anaconda3/envs/NLP/lib/python3.11/site-packages (from langchain_ollama) (0.2.29)\n",
      "Collecting ollama<1,>=0.3.0 (from langchain_ollama)\n",
      "  Downloading ollama-0.3.1-py3-none-any.whl.metadata (3.8 kB)\n",
      "Requirement already satisfied: PyYAML>=5.3 in /Users/kenzabenkirane/anaconda3/envs/NLP/lib/python3.11/site-packages (from langchain-core<0.3.0,>=0.2.20->langchain_ollama) (6.0.1)\n",
      "Requirement already satisfied: jsonpatch<2.0,>=1.33 in /Users/kenzabenkirane/anaconda3/envs/NLP/lib/python3.11/site-packages (from langchain-core<0.3.0,>=0.2.20->langchain_ollama) (1.33)\n",
      "Requirement already satisfied: langsmith<0.2.0,>=0.1.75 in /Users/kenzabenkirane/anaconda3/envs/NLP/lib/python3.11/site-packages (from langchain-core<0.3.0,>=0.2.20->langchain_ollama) (0.1.83)\n",
      "Requirement already satisfied: packaging<25,>=23.2 in /Users/kenzabenkirane/anaconda3/envs/NLP/lib/python3.11/site-packages (from langchain-core<0.3.0,>=0.2.20->langchain_ollama) (24.1)\n",
      "Requirement already satisfied: pydantic<3,>=1 in /Users/kenzabenkirane/anaconda3/envs/NLP/lib/python3.11/site-packages (from langchain-core<0.3.0,>=0.2.20->langchain_ollama) (2.7.4)\n",
      "Requirement already satisfied: tenacity!=8.4.0,<9.0.0,>=8.1.0 in /Users/kenzabenkirane/anaconda3/envs/NLP/lib/python3.11/site-packages (from langchain-core<0.3.0,>=0.2.20->langchain_ollama) (8.4.1)\n",
      "Requirement already satisfied: typing-extensions>=4.7 in /Users/kenzabenkirane/anaconda3/envs/NLP/lib/python3.11/site-packages (from langchain-core<0.3.0,>=0.2.20->langchain_ollama) (4.12.2)\n",
      "Requirement already satisfied: httpx<0.28.0,>=0.27.0 in /Users/kenzabenkirane/anaconda3/envs/NLP/lib/python3.11/site-packages (from ollama<1,>=0.3.0->langchain_ollama) (0.27.0)\n",
      "Requirement already satisfied: anyio in /Users/kenzabenkirane/anaconda3/envs/NLP/lib/python3.11/site-packages (from httpx<0.28.0,>=0.27.0->ollama<1,>=0.3.0->langchain_ollama) (4.4.0)\n",
      "Requirement already satisfied: certifi in /Users/kenzabenkirane/anaconda3/envs/NLP/lib/python3.11/site-packages (from httpx<0.28.0,>=0.27.0->ollama<1,>=0.3.0->langchain_ollama) (2024.6.2)\n",
      "Requirement already satisfied: httpcore==1.* in /Users/kenzabenkirane/anaconda3/envs/NLP/lib/python3.11/site-packages (from httpx<0.28.0,>=0.27.0->ollama<1,>=0.3.0->langchain_ollama) (1.0.5)\n",
      "Requirement already satisfied: idna in /Users/kenzabenkirane/anaconda3/envs/NLP/lib/python3.11/site-packages (from httpx<0.28.0,>=0.27.0->ollama<1,>=0.3.0->langchain_ollama) (3.7)\n",
      "Requirement already satisfied: sniffio in /Users/kenzabenkirane/anaconda3/envs/NLP/lib/python3.11/site-packages (from httpx<0.28.0,>=0.27.0->ollama<1,>=0.3.0->langchain_ollama) (1.3.1)\n",
      "Requirement already satisfied: h11<0.15,>=0.13 in /Users/kenzabenkirane/anaconda3/envs/NLP/lib/python3.11/site-packages (from httpcore==1.*->httpx<0.28.0,>=0.27.0->ollama<1,>=0.3.0->langchain_ollama) (0.14.0)\n",
      "Requirement already satisfied: jsonpointer>=1.9 in /Users/kenzabenkirane/anaconda3/envs/NLP/lib/python3.11/site-packages (from jsonpatch<2.0,>=1.33->langchain-core<0.3.0,>=0.2.20->langchain_ollama) (3.0.0)\n",
      "Requirement already satisfied: orjson<4.0.0,>=3.9.14 in /Users/kenzabenkirane/anaconda3/envs/NLP/lib/python3.11/site-packages (from langsmith<0.2.0,>=0.1.75->langchain-core<0.3.0,>=0.2.20->langchain_ollama) (3.10.5)\n",
      "Requirement already satisfied: requests<3,>=2 in /Users/kenzabenkirane/anaconda3/envs/NLP/lib/python3.11/site-packages (from langsmith<0.2.0,>=0.1.75->langchain-core<0.3.0,>=0.2.20->langchain_ollama) (2.32.3)\n",
      "Requirement already satisfied: annotated-types>=0.4.0 in /Users/kenzabenkirane/anaconda3/envs/NLP/lib/python3.11/site-packages (from pydantic<3,>=1->langchain-core<0.3.0,>=0.2.20->langchain_ollama) (0.7.0)\n",
      "Requirement already satisfied: pydantic-core==2.18.4 in /Users/kenzabenkirane/anaconda3/envs/NLP/lib/python3.11/site-packages (from pydantic<3,>=1->langchain-core<0.3.0,>=0.2.20->langchain_ollama) (2.18.4)\n",
      "Requirement already satisfied: charset-normalizer<4,>=2 in /Users/kenzabenkirane/anaconda3/envs/NLP/lib/python3.11/site-packages (from requests<3,>=2->langsmith<0.2.0,>=0.1.75->langchain-core<0.3.0,>=0.2.20->langchain_ollama) (3.3.2)\n",
      "Requirement already satisfied: urllib3<3,>=1.21.1 in /Users/kenzabenkirane/anaconda3/envs/NLP/lib/python3.11/site-packages (from requests<3,>=2->langsmith<0.2.0,>=0.1.75->langchain-core<0.3.0,>=0.2.20->langchain_ollama) (2.2.2)\n",
      "Downloading langchain_ollama-0.1.1-py3-none-any.whl (12 kB)\n",
      "Downloading ollama-0.3.1-py3-none-any.whl (10 kB)\n",
      "Installing collected packages: ollama, langchain_ollama\n",
      "Successfully installed langchain_ollama-0.1.1 ollama-0.3.1\n",
      "\n",
      "\u001b[1m[\u001b[0m\u001b[34;49mnotice\u001b[0m\u001b[1;39;49m]\u001b[0m\u001b[39;49m A new release of pip is available: \u001b[0m\u001b[31;49m24.1.2\u001b[0m\u001b[39;49m -> \u001b[0m\u001b[32;49m24.2\u001b[0m\n",
      "\u001b[1m[\u001b[0m\u001b[34;49mnotice\u001b[0m\u001b[1;39;49m]\u001b[0m\u001b[39;49m To update, run: \u001b[0m\u001b[32;49mpip install --upgrade pip\u001b[0m\n",
      "Note: you may need to restart the kernel to use updated packages.\n"
     ]
    }
   ],
   "source": [
    "%pip install langchain_ollama\n"
   ]
  },
  {
   "cell_type": "code",
   "execution_count": 3,
   "metadata": {},
   "outputs": [],
   "source": [
    "from langchain_ollama import ChatOllama\n",
    "\n",
    "llm=ChatOllama(model=\"llama3\",\n",
    "    temperature=0,\n",
    "    # other params...\n",
    ")\n"
   ]
  },
  {
   "cell_type": "code",
   "execution_count": 5,
   "metadata": {},
   "outputs": [
    {
     "data": {
      "text/plain": [
       "AIMessage(content=\"I'm just a language model, I don't have feelings or emotions like humans do. However, I'm functioning properly and ready to assist you with any questions or tasks you may have. How can I help you today?\", response_metadata={'model': 'llama3', 'created_at': '2024-08-13T11:41:36.348661Z', 'message': {'role': 'assistant', 'content': ''}, 'done_reason': 'stop', 'done': True, 'total_duration': 14190067875, 'load_duration': 12669721292, 'prompt_eval_count': 16, 'prompt_eval_duration': 149106000, 'eval_count': 46, 'eval_duration': 1360382000}, id='run-093486a3-4377-4305-8ac3-fea04aee33b3-0', usage_metadata={'input_tokens': 16, 'output_tokens': 46, 'total_tokens': 62})"
      ]
     },
     "execution_count": 5,
     "metadata": {},
     "output_type": "execute_result"
    }
   ],
   "source": [
    "llm.invoke(\"Hello, how are you?\")\n"
   ]
  },
  {
   "cell_type": "code",
   "execution_count": null,
   "metadata": {},
   "outputs": [],
   "source": []
  }
 ],
 "metadata": {
  "kernelspec": {
   "display_name": "NLP",
   "language": "python",
   "name": "python3"
  },
  "language_info": {
   "codemirror_mode": {
    "name": "ipython",
    "version": 3
   },
   "file_extension": ".py",
   "mimetype": "text/x-python",
   "name": "python",
   "nbconvert_exporter": "python",
   "pygments_lexer": "ipython3",
   "version": "3.11.8"
  }
 },
 "nbformat": 4,
 "nbformat_minor": 2
}
