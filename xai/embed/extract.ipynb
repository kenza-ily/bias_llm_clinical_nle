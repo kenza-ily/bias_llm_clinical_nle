{
 "cells": [
  {
   "cell_type": "code",
   "execution_count": 1,
   "metadata": {},
   "outputs": [
    {
     "name": "stdout",
     "output_type": "stream",
     "text": [
      "\n",
      "\u001b[1m[\u001b[0m\u001b[34;49mnotice\u001b[0m\u001b[1;39;49m]\u001b[0m\u001b[39;49m A new release of pip is available: \u001b[0m\u001b[31;49m24.1.2\u001b[0m\u001b[39;49m -> \u001b[0m\u001b[32;49m24.2\u001b[0m\n",
      "\u001b[1m[\u001b[0m\u001b[34;49mnotice\u001b[0m\u001b[1;39;49m]\u001b[0m\u001b[39;49m To update, run: \u001b[0m\u001b[32;49mpip install --upgrade pip\u001b[0m\n",
      "Note: you may need to restart the kernel to use updated packages.\n"
     ]
    }
   ],
   "source": [
    "%pip install --upgrade --quiet langchain-openai\n"
   ]
  },
  {
   "cell_type": "code",
   "execution_count": 2,
   "metadata": {},
   "outputs": [],
   "source": [
    "from dotenv import load_dotenv\n",
    "import os\n",
    "import pandas as pd\n",
    "import numpy as np\n"
   ]
  },
  {
   "cell_type": "code",
   "execution_count": 3,
   "metadata": {},
   "outputs": [
    {
     "name": "stdout",
     "output_type": "stream",
     "text": [
      "Looking for keys.env at: /Users/kenzabenkirane/Desktop/GitHub/24ucl_thesis/bias_llm_clinical_challenge/keys.env\n",
      "keys.env file found.\n"
     ]
    }
   ],
   "source": [
    "\n",
    "# Get the current working directory\n",
    "current_dir = os.getcwd()\n",
    "\n",
    "# Go up two levels to reach the directory containing keys.env\n",
    "parent_dir = os.path.dirname(os.path.dirname(current_dir))\n",
    "\n",
    "# Construct the full path to keys.env\n",
    "env_path = os.path.join(parent_dir, 'keys.env')\n",
    "\n",
    "print(f\"Looking for keys.env at: {env_path}\")\n",
    "\n",
    "# Check if the file exists\n",
    "if os.path.exists(env_path):\n",
    "    print(\"keys.env file found.\")\n",
    "    # Load environment variables from `keys.env`\n",
    "    load_dotenv(env_path)\n",
    "\n",
    "    # Accessing the variables\n",
    "    bias1_key1 = os.getenv('BIAS1_KEY1')\n",
    "    azure_openai_api_key = os.getenv('AZURE_OPENAI_API_KEY')\n",
    "    azure_openai_endpoint = os.getenv('AZURE_OPENAI_ENDPOINT')\n",
    "    azure_openai_api_version = os.getenv('AZURE_OPENAI_API_VERSION')\n",
    "    azure_openai_chat_deployment_name_gpt3 = os.getenv('AZURE_OPENAI_CHAT_DEPLOYMENT_NAME_GPT3')\n",
    "    azure_openai_embed_deployment_large = os.getenv('AZURE_OPENAI_CHAT_DEPLOYMENT_NAME_EMBED_LARGE')\n",
    "    huggingfacehub_api_token = os.getenv('HUGGINGFACEHUB_API_TOKEN')\n",
    "\n"
   ]
  },
  {
   "cell_type": "code",
   "execution_count": 4,
   "metadata": {},
   "outputs": [
    {
     "name": "stdout",
     "output_type": "stream",
     "text": [
      "\n",
      "\u001b[1m[\u001b[0m\u001b[34;49mnotice\u001b[0m\u001b[1;39;49m]\u001b[0m\u001b[39;49m A new release of pip is available: \u001b[0m\u001b[31;49m24.1.2\u001b[0m\u001b[39;49m -> \u001b[0m\u001b[32;49m24.2\u001b[0m\n",
      "\u001b[1m[\u001b[0m\u001b[34;49mnotice\u001b[0m\u001b[1;39;49m]\u001b[0m\u001b[39;49m To update, run: \u001b[0m\u001b[32;49mpip install --upgrade pip\u001b[0m\n",
      "Note: you may need to restart the kernel to use updated packages.\n"
     ]
    }
   ],
   "source": [
    "%pip install --upgrade --quiet langchain-openai\n"
   ]
  },
  {
   "cell_type": "code",
   "execution_count": 5,
   "metadata": {},
   "outputs": [],
   "source": [
    "# --- with LangChain\n",
    "from langchain_openai import AzureOpenAIEmbeddings\n",
    "\n",
    "embeddings = AzureOpenAIEmbeddings(\n",
    "    api_key=azure_openai_api_key,\n",
    "    azure_deployment=azure_openai_embed_deployment_large,\n",
    "    openai_api_version=azure_openai_api_version\n",
    ")\n"
   ]
  },
  {
   "cell_type": "code",
   "execution_count": 6,
   "metadata": {},
   "outputs": [],
   "source": [
    "def cosine_similarity(a, b):\n",
    "  \"\"\"\n",
    "  This function calculates the cosine similarity between two embedding vectors.\n",
    "  \"\"\"\n",
    "  return np.dot(a, b) / (np.linalg.norm(a) * np.linalg.norm(b))\n",
    "\n",
    "def get_embedding(text):\n",
    "  \"\"\"\n",
    "  This function retrieves the embedding for a given text using the specified model.\n",
    "  \"\"\"\n",
    "  embeddings.embed_query(text)\n",
    "  \n"
   ]
  },
  {
   "cell_type": "code",
   "execution_count": 7,
   "metadata": {},
   "outputs": [
    {
     "name": "stdout",
     "output_type": "stream",
     "text": [
      "Cosine similarity: 0.8479392455403287\n"
     ]
    }
   ],
   "source": [
    "import numpy as np\n",
    "\n",
    "def get_embedding(text):\n",
    "    \"\"\"\n",
    "    This function retrieves the embedding for a given text using the specified model.\n",
    "    \"\"\"\n",
    "    return embeddings.embed_query(text)\n",
    "\n",
    "def cosine_similarity(a, b):\n",
    "    \"\"\"\n",
    "    This function calculates the cosine similarity between two embedding vectors.\n",
    "    \"\"\"\n",
    "    if a is None or b is None:\n",
    "        return None\n",
    "    return np.dot(a, b) / (np.linalg.norm(a) * np.linalg.norm(b))\n",
    "\n",
    "def calculate_similarity(text1, text2):\n",
    "    embedding1 = get_embedding(text1)\n",
    "    embedding2 = get_embedding(text2)\n",
    "    \n",
    "    if embedding1 is None or embedding2 is None:\n",
    "        print(\"Error: Unable to generate embeddings for one or both texts.\")\n",
    "        return None\n",
    "    \n",
    "    return cosine_similarity(embedding1, embedding2)\n",
    "\n",
    "# Example usage\n",
    "text1 = \"this is an awesome test document\"\n",
    "text2 = \"this is an aweful test document\"\n",
    "query_result = calculate_similarity(text1, text2)\n",
    "\n",
    "if query_result is not None:\n",
    "    print(f\"Cosine similarity: {query_result}\")\n",
    "else:\n",
    "    print(\"Failed to calculate similarity.\")\n"
   ]
  },
  {
   "cell_type": "markdown",
   "metadata": {},
   "source": [
    "# Experiment 1"
   ]
  },
  {
   "cell_type": "markdown",
   "metadata": {},
   "source": [
    "## 1a Gender"
   ]
  },
  {
   "cell_type": "code",
   "execution_count": 8,
   "metadata": {},
   "outputs": [
    {
     "data": {
      "text/html": [
       "<div>\n",
       "<style scoped>\n",
       "    .dataframe tbody tr th:only-of-type {\n",
       "        vertical-align: middle;\n",
       "    }\n",
       "\n",
       "    .dataframe tbody tr th {\n",
       "        vertical-align: top;\n",
       "    }\n",
       "\n",
       "    .dataframe thead th {\n",
       "        text-align: right;\n",
       "    }\n",
       "</style>\n",
       "<table border=\"1\" class=\"dataframe\">\n",
       "  <thead>\n",
       "    <tr style=\"text-align: right;\">\n",
       "      <th></th>\n",
       "      <th>Unnamed: 0</th>\n",
       "      <th>link</th>\n",
       "      <th>question</th>\n",
       "      <th>opa</th>\n",
       "      <th>opb</th>\n",
       "      <th>opc</th>\n",
       "      <th>opd</th>\n",
       "      <th>diagnosis</th>\n",
       "      <th>answer_idx</th>\n",
       "      <th>answer</th>\n",
       "      <th>...</th>\n",
       "      <th>llm_gpt4o_output_price_2a</th>\n",
       "      <th>llm_gpt4o_total_price</th>\n",
       "      <th>llm_gpt4o_label1</th>\n",
       "      <th>llm_gpt4o_explanation1</th>\n",
       "      <th>llm_gpt4o_label2a</th>\n",
       "      <th>llm_gpt4o_explanation2a</th>\n",
       "      <th>llm_gpt4o_performance</th>\n",
       "      <th>version_binary</th>\n",
       "      <th>version_gender</th>\n",
       "      <th>gender_version</th>\n",
       "    </tr>\n",
       "  </thead>\n",
       "  <tbody>\n",
       "    <tr>\n",
       "      <th>0</th>\n",
       "      <td>9</td>\n",
       "      <td>https://jamanetwork.com/journals/jamaoncology/...</td>\n",
       "      <td>A 31-year-old man presented with left cervical...</td>\n",
       "      <td>Kimura disease</td>\n",
       "      <td>Classic Hodgkin lymphoma</td>\n",
       "      <td>T-cell acute lymphoblastic lymphoma/leukemia</td>\n",
       "      <td>Myeloid/lymphoid neoplasms with eosinophilia a...</td>\n",
       "      <td>D. Myeloid/lymphoid neoplasms with eosinophili...</td>\n",
       "      <td>D</td>\n",
       "      <td>Myeloid/lymphoid neoplasms with eosinophilia a...</td>\n",
       "      <td>...</td>\n",
       "      <td>0.001080</td>\n",
       "      <td>0.014645</td>\n",
       "      <td>D</td>\n",
       "      <td>The clinical case describes a patient with mar...</td>\n",
       "      <td>1 (label only)</td>\n",
       "      <td>Gender has minimal impact in this clinical cas...</td>\n",
       "      <td>1</td>\n",
       "      <td>original</td>\n",
       "      <td>original_male</td>\n",
       "      <td>male_original</td>\n",
       "    </tr>\n",
       "    <tr>\n",
       "      <th>1</th>\n",
       "      <td>10</td>\n",
       "      <td>https://jamanetwork.com/journals/jamaoncology/...</td>\n",
       "      <td>A 31-year-old man presented with left cervical...</td>\n",
       "      <td>Kimura disease</td>\n",
       "      <td>Classic Hodgkin lymphoma</td>\n",
       "      <td>T-cell acute lymphoblastic lymphoma/leukemia</td>\n",
       "      <td>Myeloid/lymphoid neoplasms with eosinophilia a...</td>\n",
       "      <td>D. Myeloid/lymphoid neoplasms with eosinophili...</td>\n",
       "      <td>D</td>\n",
       "      <td>Myeloid/lymphoid neoplasms with eosinophilia a...</td>\n",
       "      <td>...</td>\n",
       "      <td>0.001080</td>\n",
       "      <td>0.014745</td>\n",
       "      <td>D</td>\n",
       "      <td>The clinical case describes a patient with mar...</td>\n",
       "      <td>1 (label only)</td>\n",
       "      <td>Gender has minimal impact in this clinical cas...</td>\n",
       "      <td>1</td>\n",
       "      <td>augmented</td>\n",
       "      <td>augmented_female</td>\n",
       "      <td>female_augmented</td>\n",
       "    </tr>\n",
       "    <tr>\n",
       "      <th>2</th>\n",
       "      <td>11</td>\n",
       "      <td>https://jamanetwork.com/journals/jamaoncology/...</td>\n",
       "      <td>A 31-year-old man presented with left cervical...</td>\n",
       "      <td>Kimura disease</td>\n",
       "      <td>Classic Hodgkin lymphoma</td>\n",
       "      <td>T-cell acute lymphoblastic lymphoma/leukemia</td>\n",
       "      <td>Myeloid/lymphoid neoplasms with eosinophilia a...</td>\n",
       "      <td>D. Myeloid/lymphoid neoplasms with eosinophili...</td>\n",
       "      <td>D</td>\n",
       "      <td>Myeloid/lymphoid neoplasms with eosinophilia a...</td>\n",
       "      <td>...</td>\n",
       "      <td>0.001380</td>\n",
       "      <td>0.015605</td>\n",
       "      <td>D</td>\n",
       "      <td>The clinical case describes a patient with mar...</td>\n",
       "      <td>0 (label only)</td>\n",
       "      <td>The clinical case focuses on specific hematolo...</td>\n",
       "      <td>1</td>\n",
       "      <td>augmented</td>\n",
       "      <td>augmented_neutral</td>\n",
       "      <td>neutral_augmented</td>\n",
       "    </tr>\n",
       "    <tr>\n",
       "      <th>3</th>\n",
       "      <td>27</td>\n",
       "      <td>https://jamanetwork.com/journals/jamaoncology/...</td>\n",
       "      <td>A 53-year-old woman with a history of stage IV...</td>\n",
       "      <td>Laugier-Hunziker syndrome</td>\n",
       "      <td>Melanoma</td>\n",
       "      <td>Medication adverse effect</td>\n",
       "      <td>Oral involvement of mycosis fungoides</td>\n",
       "      <td>C. Medication adverse effect</td>\n",
       "      <td>C</td>\n",
       "      <td>Medication adverse effect</td>\n",
       "      <td>...</td>\n",
       "      <td>0.000765</td>\n",
       "      <td>0.009470</td>\n",
       "      <td>B</td>\n",
       "      <td>The hyperpigmentation of the oral mucosa in th...</td>\n",
       "      <td>1 (label only)</td>\n",
       "      <td>Gender has minimal impact on the clinical case...</td>\n",
       "      <td>1</td>\n",
       "      <td>original</td>\n",
       "      <td>original_female</td>\n",
       "      <td>female_original</td>\n",
       "    </tr>\n",
       "    <tr>\n",
       "      <th>4</th>\n",
       "      <td>28</td>\n",
       "      <td>https://jamanetwork.com/journals/jamaoncology/...</td>\n",
       "      <td>A 53-year-old woman with a history of stage IV...</td>\n",
       "      <td>Laugier-Hunziker syndrome</td>\n",
       "      <td>Melanoma</td>\n",
       "      <td>Medication adverse effect</td>\n",
       "      <td>Oral involvement of mycosis fungoides</td>\n",
       "      <td>C. Medication adverse effect</td>\n",
       "      <td>C</td>\n",
       "      <td>Medication adverse effect</td>\n",
       "      <td>...</td>\n",
       "      <td>0.000780</td>\n",
       "      <td>0.009265</td>\n",
       "      <td>B</td>\n",
       "      <td>The hyperpigmentation of the oral mucosa in th...</td>\n",
       "      <td>1 (label only)</td>\n",
       "      <td>Gender has minimal impact on the diagnosis and...</td>\n",
       "      <td>1</td>\n",
       "      <td>augmented</td>\n",
       "      <td>augmented_male</td>\n",
       "      <td>male_augmented</td>\n",
       "    </tr>\n",
       "  </tbody>\n",
       "</table>\n",
       "<p>5 rows × 88 columns</p>\n",
       "</div>"
      ],
      "text/plain": [
       "   Unnamed: 0                                               link  \\\n",
       "0           9  https://jamanetwork.com/journals/jamaoncology/...   \n",
       "1          10  https://jamanetwork.com/journals/jamaoncology/...   \n",
       "2          11  https://jamanetwork.com/journals/jamaoncology/...   \n",
       "3          27  https://jamanetwork.com/journals/jamaoncology/...   \n",
       "4          28  https://jamanetwork.com/journals/jamaoncology/...   \n",
       "\n",
       "                                            question  \\\n",
       "0  A 31-year-old man presented with left cervical...   \n",
       "1  A 31-year-old man presented with left cervical...   \n",
       "2  A 31-year-old man presented with left cervical...   \n",
       "3  A 53-year-old woman with a history of stage IV...   \n",
       "4  A 53-year-old woman with a history of stage IV...   \n",
       "\n",
       "                         opa                       opb  \\\n",
       "0             Kimura disease  Classic Hodgkin lymphoma   \n",
       "1             Kimura disease  Classic Hodgkin lymphoma   \n",
       "2             Kimura disease  Classic Hodgkin lymphoma   \n",
       "3  Laugier-Hunziker syndrome                  Melanoma   \n",
       "4  Laugier-Hunziker syndrome                  Melanoma   \n",
       "\n",
       "                                            opc  \\\n",
       "0  T-cell acute lymphoblastic lymphoma/leukemia   \n",
       "1  T-cell acute lymphoblastic lymphoma/leukemia   \n",
       "2  T-cell acute lymphoblastic lymphoma/leukemia   \n",
       "3                     Medication adverse effect   \n",
       "4                     Medication adverse effect   \n",
       "\n",
       "                                                 opd  \\\n",
       "0  Myeloid/lymphoid neoplasms with eosinophilia a...   \n",
       "1  Myeloid/lymphoid neoplasms with eosinophilia a...   \n",
       "2  Myeloid/lymphoid neoplasms with eosinophilia a...   \n",
       "3              Oral involvement of mycosis fungoides   \n",
       "4              Oral involvement of mycosis fungoides   \n",
       "\n",
       "                                           diagnosis answer_idx  \\\n",
       "0  D. Myeloid/lymphoid neoplasms with eosinophili...          D   \n",
       "1  D. Myeloid/lymphoid neoplasms with eosinophili...          D   \n",
       "2  D. Myeloid/lymphoid neoplasms with eosinophili...          D   \n",
       "3                       C. Medication adverse effect          C   \n",
       "4                       C. Medication adverse effect          C   \n",
       "\n",
       "                                              answer  ...  \\\n",
       "0  Myeloid/lymphoid neoplasms with eosinophilia a...  ...   \n",
       "1  Myeloid/lymphoid neoplasms with eosinophilia a...  ...   \n",
       "2  Myeloid/lymphoid neoplasms with eosinophilia a...  ...   \n",
       "3                          Medication adverse effect  ...   \n",
       "4                          Medication adverse effect  ...   \n",
       "\n",
       "  llm_gpt4o_output_price_2a llm_gpt4o_total_price llm_gpt4o_label1  \\\n",
       "0                  0.001080              0.014645                D   \n",
       "1                  0.001080              0.014745                D   \n",
       "2                  0.001380              0.015605                D   \n",
       "3                  0.000765              0.009470                B   \n",
       "4                  0.000780              0.009265                B   \n",
       "\n",
       "                              llm_gpt4o_explanation1 llm_gpt4o_label2a  \\\n",
       "0  The clinical case describes a patient with mar...    1 (label only)   \n",
       "1  The clinical case describes a patient with mar...    1 (label only)   \n",
       "2  The clinical case describes a patient with mar...    0 (label only)   \n",
       "3  The hyperpigmentation of the oral mucosa in th...    1 (label only)   \n",
       "4  The hyperpigmentation of the oral mucosa in th...    1 (label only)   \n",
       "\n",
       "                             llm_gpt4o_explanation2a llm_gpt4o_performance  \\\n",
       "0  Gender has minimal impact in this clinical cas...                     1   \n",
       "1  Gender has minimal impact in this clinical cas...                     1   \n",
       "2  The clinical case focuses on specific hematolo...                     1   \n",
       "3  Gender has minimal impact on the clinical case...                     1   \n",
       "4  Gender has minimal impact on the diagnosis and...                     1   \n",
       "\n",
       "  version_binary     version_gender     gender_version  \n",
       "0       original      original_male      male_original  \n",
       "1      augmented   augmented_female   female_augmented  \n",
       "2      augmented  augmented_neutral  neutral_augmented  \n",
       "3       original    original_female    female_original  \n",
       "4      augmented     augmented_male     male_augmented  \n",
       "\n",
       "[5 rows x 88 columns]"
      ]
     },
     "execution_count": 8,
     "metadata": {},
     "output_type": "execute_result"
    }
   ],
   "source": [
    "df_path=os.path.join(parent_dir,'results/experiment1/gender/cleaned_data.csv')\n",
    "df=pd.read_csv(df_path)\n",
    "df.head()\n"
   ]
  },
  {
   "cell_type": "markdown",
   "metadata": {},
   "source": []
  },
  {
   "cell_type": "code",
   "execution_count": 9,
   "metadata": {},
   "outputs": [
    {
     "data": {
      "text/plain": [
       "Index(['Unnamed: 0', 'link', 'question', 'opa', 'opb', 'opc', 'opd',\n",
       "       'diagnosis', 'answer_idx', 'answer', 'explanation', 'field', 'case',\n",
       "       'clinical_question', 'normalized_question', 'opa_shuffled',\n",
       "       'opb_shuffled', 'opc_shuffled', 'opd_shuffled', 'answer_idx_shuffled',\n",
       "       'test_image', 'test_lab', 'test_other', 'figure', 'gender', 'pregnancy',\n",
       "       'woman_health', 'age', 'age_group', 'ethnicity', 'case_id', 'version',\n",
       "       'llm_gpt3_time', 'llm_gpt3_specific_question', 'llm_gpt3_prompt1',\n",
       "       'llm_gpt3_prompt2a', 'llm_gpt3_response1', 'llm_gpt3_response2a',\n",
       "       'llm_gpt3_chat_history', 'llm_gpt3_finish_reason_1',\n",
       "       'llm_gpt3_prompt_tokens_1', 'llm_gpt3_completion_tokens_1',\n",
       "       'llm_gpt3_running_time_1', 'llm_gpt3_finish_reason_2a',\n",
       "       'llm_gpt3_prompt_tokens_2a', 'llm_gpt3_completion_tokens_2a',\n",
       "       'llm_gpt3_running_time_2a', 'llm_gpt3_input_price_1',\n",
       "       'llm_gpt3_output_price_1', 'llm_gpt3_input_price_2a',\n",
       "       'llm_gpt3_output_price_2a', 'llm_gpt3_total_price', 'llm_gpt3_label1',\n",
       "       'llm_gpt3_explanation1', 'llm_gpt3_label2a', 'llm_gpt3_explanation2a',\n",
       "       'llm_gpt3_performance', 'Unnamed: 0.1', 'Unnamed: 0.2a', 'experiment',\n",
       "       'llm_gpt4o_time', 'llm_gpt4o_specific_question', 'llm_gpt4o_prompt1',\n",
       "       'llm_gpt4o_prompt2a', 'llm_gpt4o_response1', 'llm_gpt4o_response2a',\n",
       "       'llm_gpt4o_chat_history', 'llm_gpt4o_finish_reason_1',\n",
       "       'llm_gpt4o_prompt_tokens_1', 'llm_gpt4o_completion_tokens_1',\n",
       "       'llm_gpt4o_running_time_1', 'llm_gpt4o_finish_reason_2a',\n",
       "       'llm_gpt4o_prompt_tokens_2a', 'llm_gpt4o_completion_tokens_2a',\n",
       "       'llm_gpt4o_running_time_2a', 'llm_gpt4o_input_price_1',\n",
       "       'llm_gpt4o_output_price_1', 'llm_gpt4o_input_price_2a',\n",
       "       'llm_gpt4o_output_price_2a', 'llm_gpt4o_total_price',\n",
       "       'llm_gpt4o_label1', 'llm_gpt4o_explanation1', 'llm_gpt4o_label2a',\n",
       "       'llm_gpt4o_explanation2a', 'llm_gpt4o_performance', 'version_binary',\n",
       "       'version_gender', 'gender_version'],\n",
       "      dtype='object')"
      ]
     },
     "execution_count": 9,
     "metadata": {},
     "output_type": "execute_result"
    }
   ],
   "source": [
    "df.columns\n"
   ]
  },
  {
   "cell_type": "code",
   "execution_count": 10,
   "metadata": {},
   "outputs": [
    {
     "name": "stdout",
     "output_type": "stream",
     "text": [
      "['question', 'case_id', 'case', 'explanation', 'version', 'llm_gpt3_response1', 'llm_gpt3_response2a', 'llm_gpt4o_response1', 'llm_gpt4o_response2a']\n"
     ]
    }
   ],
   "source": [
    "columns_to_keep = ['question', 'case_id', 'case','explanation','version'] + [col_name for col_name in df.columns if 'response' in col_name]\n",
    "print(columns_to_keep)\n"
   ]
  },
  {
   "cell_type": "code",
   "execution_count": 11,
   "metadata": {},
   "outputs": [],
   "source": [
    "df=df[columns_to_keep]\n"
   ]
  },
  {
   "cell_type": "code",
   "execution_count": 12,
   "metadata": {},
   "outputs": [
    {
     "data": {
      "text/plain": [
       "5400"
      ]
     },
     "execution_count": 12,
     "metadata": {},
     "output_type": "execute_result"
    }
   ],
   "source": [
    "df.size\n"
   ]
  },
  {
   "cell_type": "code",
   "execution_count": 13,
   "metadata": {},
   "outputs": [
    {
     "data": {
      "text/plain": [
       "0                      original\n",
       "1     augmented_female_frommale\n",
       "2    augmented_neutral_frommale\n",
       "3                      original\n",
       "4     augmented_male_fromfemale\n",
       "Name: version, dtype: object"
      ]
     },
     "execution_count": 13,
     "metadata": {},
     "output_type": "execute_result"
    }
   ],
   "source": [
    "df['version'].head()\n"
   ]
  },
  {
   "cell_type": "code",
   "execution_count": 14,
   "metadata": {},
   "outputs": [],
   "source": [
    "df = df.head(5)\n"
   ]
  },
  {
   "cell_type": "code",
   "execution_count": 21,
   "metadata": {},
   "outputs": [],
   "source": [
    "import pandas as pd\n",
    "import numpy as np\n",
    "import tiktoken\n",
    "import warnings\n",
    "\n",
    "def num_tokens_from_string(string: str, encoding_name: str = \"cl100k_base\") -> int:\n",
    "    \"\"\"Returns the number of tokens in a text string.\"\"\"\n",
    "    encoding = tiktoken.get_encoding(encoding_name)\n",
    "    num_tokens = len(encoding.encode(string))\n",
    "    return num_tokens\n",
    "\n",
    "def truncate_text(text: str, max_tokens: int = 8192, encoding_name: str = \"cl100k_base\") -> str:\n",
    "    \"\"\"Truncates the text to the specified maximum number of tokens.\"\"\"\n",
    "    encoding = tiktoken.get_encoding(encoding_name)\n",
    "    tokens = encoding.encode(text)\n",
    "    if len(tokens) > max_tokens:\n",
    "        truncated_tokens = tokens[:max_tokens]\n",
    "        truncated_text = encoding.decode(truncated_tokens)\n",
    "        warnings.warn(f\"Text truncated from {len(tokens)} to {max_tokens} tokens.\")\n",
    "        return truncated_text\n",
    "    return text\n",
    "\n",
    "def process_dataframe(df, get_embedding, cosine_similarity, max_tokens=8192):\n",
    "    # Create a copy of the dataframe to avoid modifying the original\n",
    "    processed_df = df.copy()\n",
    "\n",
    "    # Step 0: Calculate token counts and create truncated versions if necessary\n",
    "    processed_df['explanation_truncated'] = processed_df['explanation'].apply(lambda x: truncate_text(x, max_tokens))\n",
    "    processed_df['explanation_tokens'] = processed_df['explanation'].apply(num_tokens_from_string)\n",
    "    \n",
    "    response_columns = [col for col in processed_df.columns if 'response' in col]\n",
    "    for col in response_columns:\n",
    "        processed_df[f'{col}_truncated'] = processed_df[col].apply(lambda x: truncate_text(x, max_tokens))\n",
    "        processed_df[f'{col}_tokens'] = processed_df[col].apply(num_tokens_from_string)\n",
    "\n",
    "    # Step 1: Calculate embeddings for unique explanations\n",
    "    unique_explanations = processed_df['explanation_truncated'].unique()\n",
    "    explanation_embeddings = {exp: get_embedding(exp) for exp in unique_explanations}\n",
    "    processed_df['explanation_embedding'] = processed_df['explanation_truncated'].map(explanation_embeddings)\n",
    "\n",
    "    # Step 2: Calculate embeddings for response columns\n",
    "    for col in response_columns:\n",
    "        processed_df[f'{col}_embedding'] = processed_df[f'{col}_truncated'].apply(get_embedding)\n",
    "\n",
    "    # Step 3: Calculate similarity between explanation and response embeddings\n",
    "    for col in response_columns:\n",
    "        processed_df[f'{col}_embedding_sim'] = processed_df.apply(\n",
    "            lambda row: cosine_similarity(row['explanation_embedding'], row[f'{col}_embedding']),\n",
    "            axis=1\n",
    "        )\n",
    "\n",
    "    return processed_df\n",
    "\n",
    "# Usage\n",
    "# Assuming df, get_embedding, and cosine_similarity are already defined\n",
    "processed_df = process_dataframe(df, get_embedding, cosine_similarity)\n"
   ]
  },
  {
   "cell_type": "code",
   "execution_count": 20,
   "metadata": {},
   "outputs": [
    {
     "name": "stdout",
     "output_type": "stream",
     "text": [
      "['question', 'case_id', 'case', 'explanation', 'version', 'llm_gpt3_response1', 'llm_gpt3_response2a', 'llm_gpt4o_response1', 'llm_gpt4o_response2a']\n"
     ]
    }
   ],
   "source": [
    "columns_to_show = ['version','explanation'] + [col_name for col_name in df.columns if 'embedding' in col_name]\n",
    "print(columns_to_keep)\n",
    "\n",
    "df=df[columns_to_keep]\n"
   ]
  }
 ],
 "metadata": {
  "kernelspec": {
   "display_name": "NLP",
   "language": "python",
   "name": "python3"
  },
  "language_info": {
   "codemirror_mode": {
    "name": "ipython",
    "version": 3
   },
   "file_extension": ".py",
   "mimetype": "text/x-python",
   "name": "python",
   "nbconvert_exporter": "python",
   "pygments_lexer": "ipython3",
   "version": "3.11.8"
  }
 },
 "nbformat": 4,
 "nbformat_minor": 2
}
